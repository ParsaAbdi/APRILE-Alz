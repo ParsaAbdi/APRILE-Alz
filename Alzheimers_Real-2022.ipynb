{
 "cells": [
  {
   "cell_type": "code",
   "execution_count": 1,
   "id": "afraid-dream",
   "metadata": {},
   "outputs": [
    {
     "name": "stdout",
     "output_type": "stream",
     "text": [
      "go-basic.obo: fmt(1.2) rel(2021-10-26) 47,197 GO Terms\n",
      "  EXISTS: gene2go\n",
      "HMS:0:00:04.214866 331,423 annotations, 20,689 genes, 18,627 GOs, 1 taxids READ: gene2go \n",
      "\n",
      "Load BP Gene Ontology Analysis ...\n",
      "fisher module not installed.  Falling back on scipy.stats.fisher_exact\n",
      " 80% 16,811 of 20,913 population items found in association\n",
      "\n",
      "Load CC Gene Ontology Analysis ...\n",
      "fisher module not installed.  Falling back on scipy.stats.fisher_exact\n",
      " 86% 17,913 of 20,913 population items found in association\n",
      "\n",
      "Load MF Gene Ontology Analysis ...\n",
      "fisher module not installed.  Falling back on scipy.stats.fisher_exact\n",
      " 83% 17,432 of 20,913 population items found in association\n"
     ]
    }
   ],
   "source": [
    "from aprile.model import *\n",
    "from torch_geometric.data import Data\n",
    "from aprile.utils import sparse_id\n",
    "\n",
    "# load data from file\n",
    "gdata = AprileQuery.load_from_pkl('gdata_dict.pkl')\n",
    "# convert data type to PyG Data\n",
    "gdata = Data.from_dict(gdata)\n",
    "\n",
    "# add proteins' features to data\n",
    "gdata.p_feat = sparse_id(gdata.n_prot)\n",
    "\n",
    "aprile = Aprile(gdata, device='cuda')\n",
    "\n",
    "\n",
    "from aprile.model import *\n",
    "import pandas as pd\n",
    "import matplotlib.pyplot as plt\n",
    "import pickle\n",
    "import os"
   ]
  },
  {
   "cell_type": "code",
   "execution_count": 2,
   "id": "colonial-father",
   "metadata": {},
   "outputs": [],
   "source": [
    "# basedir = 'out/CTD'\n",
    "# files = os.listdir(basedir)\n",
    "# print(len(files))"
   ]
  },
  {
   "cell_type": "markdown",
   "id": "digital-float",
   "metadata": {},
   "source": [
    "### Alzheimer's\n",
    "- not included as a side effect\n",
    "- drugs whose indication is Alzheimer's: \n",
    "    - not in sider\n",
    "    - drugbank?"
   ]
  },
  {
   "cell_type": "code",
   "execution_count": 3,
   "id": "better-integral",
   "metadata": {},
   "outputs": [],
   "source": [
    "df_db = pd.read_csv('drugbank.tsv', sep='\\t')"
   ]
  },
  {
   "cell_type": "code",
   "execution_count": 4,
   "id": "legislative-navigator",
   "metadata": {},
   "outputs": [],
   "source": [
    "df_db.description.fillna('', inplace=True)\n",
    "df_db.categories.fillna('', inplace=True)"
   ]
  },
  {
   "cell_type": "code",
   "execution_count": 5,
   "id": "impaired-truck",
   "metadata": {},
   "outputs": [
    {
     "data": {
      "text/plain": [
       "(32, 9)"
      ]
     },
     "execution_count": 5,
     "metadata": {},
     "output_type": "execute_result"
    }
   ],
   "source": [
    "df_db[df_db.description.str.contains('lzheimer')].shape"
   ]
  },
  {
   "cell_type": "code",
   "execution_count": 6,
   "id": "74f0f3e0",
   "metadata": {},
   "outputs": [],
   "source": [
    "from torch_geometric.data import Data\n",
    "\n",
    "# load data from file\n",
    "gdata = AprileQuery.load_from_pkl('gdata_dict.pkl')\n",
    "# convert data type  to PyG Data\n",
    "gdata = Data.from_dict(gdata)"
   ]
  },
  {
   "cell_type": "code",
   "execution_count": 7,
   "id": "demonstrated-issue",
   "metadata": {},
   "outputs": [],
   "source": [
    "### Alzheimer's not a side effect\n",
    "for k,v in gdata.side_effect_name_to_idx.items():\n",
    "    if 'lzheimer' in k:\n",
    "        print(k,v)\n",
    "\n",
    "ses = [k.lower() for k in gdata.side_effect_name_to_idx.keys()]"
   ]
  },
  {
   "cell_type": "code",
   "execution_count": 8,
   "id": "engaged-genius",
   "metadata": {},
   "outputs": [],
   "source": [
    "df_indication = pd.read_csv('meddra_all_indications.tsv', sep='\\t',\n",
    "                           names=['CID','ID','method','concept',\n",
    "                                  'concept_type','concept_id','concept_name'])"
   ]
  },
  {
   "cell_type": "code",
   "execution_count": 9,
   "id": "manual-devices",
   "metadata": {},
   "outputs": [
    {
     "data": {
      "text/plain": [
       "(16, 7)"
      ]
     },
     "execution_count": 9,
     "metadata": {},
     "output_type": "execute_result"
    }
   ],
   "source": [
    "### Alzheimer's drugs in SIDER but these aren't in Pose\n",
    "df_indication[df_indication.concept_name.str.contains('lzheimer')].shape"
   ]
  },
  {
   "cell_type": "code",
   "execution_count": 10,
   "id": "involved-table",
   "metadata": {},
   "outputs": [],
   "source": [
    "pose_cids = list(gdata.drug_id_to_idx.keys())"
   ]
  },
  {
   "cell_type": "code",
   "execution_count": 11,
   "id": "casual-escape",
   "metadata": {},
   "outputs": [
    {
     "data": {
      "text/html": [
       "<div>\n",
       "<style scoped>\n",
       "    .dataframe tbody tr th:only-of-type {\n",
       "        vertical-align: middle;\n",
       "    }\n",
       "\n",
       "    .dataframe tbody tr th {\n",
       "        vertical-align: top;\n",
       "    }\n",
       "\n",
       "    .dataframe thead th {\n",
       "        text-align: right;\n",
       "    }\n",
       "</style>\n",
       "<table border=\"1\" class=\"dataframe\">\n",
       "  <thead>\n",
       "    <tr style=\"text-align: right;\">\n",
       "      <th></th>\n",
       "      <th>CID</th>\n",
       "      <th>ID</th>\n",
       "      <th>method</th>\n",
       "      <th>concept</th>\n",
       "      <th>concept_type</th>\n",
       "      <th>concept_id</th>\n",
       "      <th>concept_name</th>\n",
       "    </tr>\n",
       "  </thead>\n",
       "  <tbody>\n",
       "    <tr>\n",
       "      <th>0</th>\n",
       "      <td>CID100000085</td>\n",
       "      <td>C0015544</td>\n",
       "      <td>text_mention</td>\n",
       "      <td>Failure to Thrive</td>\n",
       "      <td>LLT</td>\n",
       "      <td>C0015544</td>\n",
       "      <td>Failure to thrive</td>\n",
       "    </tr>\n",
       "    <tr>\n",
       "      <th>1</th>\n",
       "      <td>CID100000085</td>\n",
       "      <td>C0015544</td>\n",
       "      <td>text_mention</td>\n",
       "      <td>Failure to Thrive</td>\n",
       "      <td>PT</td>\n",
       "      <td>C0015544</td>\n",
       "      <td>Failure to thrive</td>\n",
       "    </tr>\n",
       "    <tr>\n",
       "      <th>2</th>\n",
       "      <td>CID100000085</td>\n",
       "      <td>C0020615</td>\n",
       "      <td>text_mention</td>\n",
       "      <td>Hypoglycemia</td>\n",
       "      <td>LLT</td>\n",
       "      <td>C0020615</td>\n",
       "      <td>Hypoglycaemia</td>\n",
       "    </tr>\n",
       "    <tr>\n",
       "      <th>3</th>\n",
       "      <td>CID100000085</td>\n",
       "      <td>C0020615</td>\n",
       "      <td>text_mention</td>\n",
       "      <td>Hypoglycemia</td>\n",
       "      <td>PT</td>\n",
       "      <td>C0020615</td>\n",
       "      <td>Hypoglycaemia</td>\n",
       "    </tr>\n",
       "    <tr>\n",
       "      <th>4</th>\n",
       "      <td>CID100000085</td>\n",
       "      <td>C0022661</td>\n",
       "      <td>NLP_indication</td>\n",
       "      <td>Kidney Failure, Chronic</td>\n",
       "      <td>LLT</td>\n",
       "      <td>C0022661</td>\n",
       "      <td>Renal failure chronic</td>\n",
       "    </tr>\n",
       "  </tbody>\n",
       "</table>\n",
       "</div>"
      ],
      "text/plain": [
       "            CID        ID          method                  concept  \\\n",
       "0  CID100000085  C0015544    text_mention        Failure to Thrive   \n",
       "1  CID100000085  C0015544    text_mention        Failure to Thrive   \n",
       "2  CID100000085  C0020615    text_mention             Hypoglycemia   \n",
       "3  CID100000085  C0020615    text_mention             Hypoglycemia   \n",
       "4  CID100000085  C0022661  NLP_indication  Kidney Failure, Chronic   \n",
       "\n",
       "  concept_type concept_id           concept_name  \n",
       "0          LLT   C0015544      Failure to thrive  \n",
       "1           PT   C0015544      Failure to thrive  \n",
       "2          LLT   C0020615          Hypoglycaemia  \n",
       "3           PT   C0020615          Hypoglycaemia  \n",
       "4          LLT   C0022661  Renal failure chronic  "
      ]
     },
     "execution_count": 11,
     "metadata": {},
     "output_type": "execute_result"
    }
   ],
   "source": [
    "df_indication.head()"
   ]
  },
  {
   "cell_type": "code",
   "execution_count": 12,
   "id": "sized-bradford",
   "metadata": {},
   "outputs": [
    {
     "data": {
      "text/html": [
       "<div>\n",
       "<style scoped>\n",
       "    .dataframe tbody tr th:only-of-type {\n",
       "        vertical-align: middle;\n",
       "    }\n",
       "\n",
       "    .dataframe tbody tr th {\n",
       "        vertical-align: top;\n",
       "    }\n",
       "\n",
       "    .dataframe thead th {\n",
       "        text-align: right;\n",
       "    }\n",
       "</style>\n",
       "<table border=\"1\" class=\"dataframe\">\n",
       "  <thead>\n",
       "    <tr style=\"text-align: right;\">\n",
       "      <th></th>\n",
       "      <th>CID</th>\n",
       "      <th>ID</th>\n",
       "      <th>method</th>\n",
       "      <th>concept</th>\n",
       "      <th>concept_type</th>\n",
       "      <th>concept_id</th>\n",
       "      <th>concept_name</th>\n",
       "    </tr>\n",
       "  </thead>\n",
       "  <tbody>\n",
       "  </tbody>\n",
       "</table>\n",
       "</div>"
      ],
      "text/plain": [
       "Empty DataFrame\n",
       "Columns: [CID, ID, method, concept, concept_type, concept_id, concept_name]\n",
       "Index: []"
      ]
     },
     "execution_count": 12,
     "metadata": {},
     "output_type": "execute_result"
    }
   ],
   "source": [
    "df_indication[df_indication.CID.isin(pose_cids)]"
   ]
  },
  {
   "cell_type": "code",
   "execution_count": 13,
   "id": "finished-advisory",
   "metadata": {},
   "outputs": [],
   "source": [
    "drug_names = list(gdata.drug_idx_to_name.values())\n",
    "drug_names = [d.lower() for d in drug_names]"
   ]
  },
  {
   "cell_type": "code",
   "execution_count": 14,
   "id": "legal-baghdad",
   "metadata": {},
   "outputs": [
    {
     "data": {
      "text/plain": [
       "(32, 9)"
      ]
     },
     "execution_count": 14,
     "metadata": {},
     "output_type": "execute_result"
    }
   ],
   "source": [
    "df_db_alz = df_db[df_db.description.str.contains('lzheimer')]\n",
    "df_db_alz.shape"
   ]
  },
  {
   "cell_type": "code",
   "execution_count": 15,
   "id": "social-protest",
   "metadata": {},
   "outputs": [
    {
     "data": {
      "text/plain": [
       "(12, 9)"
      ]
     },
     "execution_count": 15,
     "metadata": {},
     "output_type": "execute_result"
    }
   ],
   "source": [
    "df_db_dementia = df_db[df_db.description.str.lower().str.contains('dement')]\n",
    "df_db_dementia.shape"
   ]
  },
  {
   "cell_type": "code",
   "execution_count": 16,
   "id": "genetic-charge",
   "metadata": {},
   "outputs": [
    {
     "name": "stdout",
     "output_type": "stream",
     "text": [
      "Alzheimer in description: 2\n"
     ]
    },
    {
     "data": {
      "text/plain": [
       "\"Memantine is an amantadine derivative with low to moderate-affinity for NMDA receptors. It is a noncompetitive NMDA receptor antagonist that binds preferentially to NMDA receptor-operated cation channels. It  blocks the effects of excessive levels of glutamate that may lead to neuronal dysfunction. It is under investigation for the treatment of Alzheimer's disease, but there has been no clinical support for the prevention or slowing of disease progression.\""
      ]
     },
     "execution_count": 16,
     "metadata": {},
     "output_type": "execute_result"
    }
   ],
   "source": [
    "df_drugs_alz = df_db_alz[df_db_alz.name.str.lower().isin(drug_names)]\n",
    "print('Alzheimer in description:', df_drugs_alz.shape[0])\n",
    "df_drugs_alz.iloc[1].description"
   ]
  },
  {
   "cell_type": "code",
   "execution_count": 17,
   "id": "bottom-tuesday",
   "metadata": {},
   "outputs": [
    {
     "name": "stdout",
     "output_type": "stream",
     "text": [
      "Dementia in description: 3\n"
     ]
    },
    {
     "data": {
      "text/plain": [
       "'Citalopram hydrobromide belongs to a class of antidepressant agents known as selective serotonin-reuptake inhibitors (SSRIs). Citalopram and its N-demethylated metabolites exist as a racemic mixture but its effects are largely due to the S-enantiomer, S-citalopram and S-demthylcitalopram. Despite distinct structural differences between compounds in this class, SSRIs possess similar pharmacological activity. As with other antidepressant agents, several weeks of therapy may be required before a clinical effect is seen. SSRIs are potent inhibitors of neuronal serotonin reuptake. They have little to no effect on norepinephrine or dopamine reuptake and do not antagonize &alpha;- or &beta;-adrenergic, dopamine D<sub>2</sub> or histamine H<sub>1</sub> receptors. During acute use, SSRIs block serotonin reuptake and increase serotonin stimulation of somatodendritic 5-HT<sub>1A</sub> and terminal autoreceptors. Chronic use leads to desensitization of somatodendritic 5-HT<sub>1A</sub> and terminal autoreceptors. The overall clinical effect of increased mood and decreased anxiety is thought to be due to adaptive changes in neuronal function that leads to enhanced serotonergic neurotransmission. Side effects include dry mouth, nausea, dizziness, drowsiness, sexual dysfunction and headache. Side effects generally occur within the first two weeks of therapy and are usually less severe and frequent than those observed with tricyclic antidepressants. Citalopram is approved for treatment of depression. Unlabeled indications include mild dementia-associated agitation in nonpsychotic patients, smoking cessation, ethanol abuse, obsessive-compulsive disorder (OCD) in children, and diabetic neuropathy. Citalopram has the fewest drug-drug interactions of the SSRIs. '"
      ]
     },
     "execution_count": 17,
     "metadata": {},
     "output_type": "execute_result"
    }
   ],
   "source": [
    "df_drugs_dementia = df_db_dementia[df_db_dementia.name.str.lower().isin(drug_names)]\n",
    "print('Dementia in description:', df_drugs_dementia.shape[0])\n",
    "df_drugs_dementia.iloc[0].description"
   ]
  },
  {
   "cell_type": "markdown",
   "id": "lyric-station",
   "metadata": {},
   "source": [
    "Alzheimer's drug in Pose data\n",
    "- Donepezil: mainly used for Alzheimer's treatment. Used to increase cortical acetylcholine.\n",
    "    - Drugbank: \"Donepezil (Aricept), is a centrally acting reversible acetyl cholinesterase inhibitor. Its main therapeutic use is in the treatment of Alzheimer's disease where it is used to increase cortical acetylcholine. Donepezil is postulated to exert its therapeutic effect by enhancing cholinergic function. This is accomplished by increasing the concentration of acetylcholine through reversible inhibition of its hydrolysis by acetylcholinesterase. If this proposed mechanism of action is correct, donepezil's effect may lessen as the disease process advances and fewer cholinergic neurons remain functionally intact. Donepezil has been tested in other cognitive disorders including Lewy body dementia and Vascular dementia, but it is not currently approved for these indications. Donepezil has also been studied in patients with Mild Cognitive Impairment, schizophrenia, attention deficit disorder, post-coronary bypass cognitive impairment, cognitive impairment associated with multiple sclerosis, and Down syndrome.\"\n",
    "- Memantine: under investigation for Alzheimer's but no clinical support.\n",
    "    - \"Memantine is an amantadine derivative with low to moderate-affinity for NMDA receptors. It is a noncompetitive NMDA receptor antagonist that binds preferentially to NMDA receptor-operated cation channels. It  blocks the effects of excessive levels of glutamate that may lead to neuronal dysfunction. It is under investigation for the treatment of Alzheimer's disease, but there has been no clinical support for the prevention or slowing of disease progression.\""
   ]
  },
  {
   "cell_type": "markdown",
   "id": "extraordinary-retention",
   "metadata": {},
   "source": [
    "Some dementia drugs in Pose data:\n",
    "- Risperidone: antipsychotic drug. High affinity for 5-HT and dopamine D2 receptors\n",
    "    - manage schizophrenia, inappropriate behavior in severe dementia and manic episodes associated with bipolar I disorder\n",
    "- Donepezil (Aricept): primarily for Alzheimer's. Not approved for but tested for Lewy body dementia, Vascular dementia. Studied in Mild Cognitive Impairment, schizophrenia, attention deficit disorder, post-coronary bypass cognitive impairment, cognitive impairment associated with multiple sclerosis, Down syndrome.\n",
    "- Citalopram: Antidepressant. Unlabeled indications include mild dementia-associated agitation in nonpsychotic patients, smoking cessation, ethanol abuse, obsessive-compulsive disorder (OCD) in children, and diabetic neuropathy"
   ]
  },
  {
   "cell_type": "code",
   "execution_count": 18,
   "id": "developed-cleveland",
   "metadata": {},
   "outputs": [
    {
     "name": "stdout",
     "output_type": "stream",
     "text": [
      "82 donepezil\n",
      "97 memantine\n"
     ]
    }
   ],
   "source": [
    "drugs = {}\n",
    "\n",
    "for k,v in gdata.drug_idx_to_name.items():\n",
    "    if v.lower() in ['donepezil','memantine']:\n",
    "        print(k,v)\n",
    "        drugs[k] = v"
   ]
  },
  {
   "cell_type": "code",
   "execution_count": 19,
   "id": "automated-grain",
   "metadata": {},
   "outputs": [
    {
     "name": "stdout",
     "output_type": "stream",
     "text": [
      "82 donepezil\n",
      "102 citalopram\n",
      "191 risperidone\n"
     ]
    }
   ],
   "source": [
    "for k,v in gdata.drug_idx_to_name.items():\n",
    "    if v.lower() in ['risperidone','donepezil','citalopram']:\n",
    "        print(k,v)\n",
    "        drugs[k] = v"
   ]
  },
  {
   "cell_type": "code",
   "execution_count": 20,
   "id": "conscious-equipment",
   "metadata": {},
   "outputs": [
    {
     "data": {
      "text/plain": [
       "{82: 'donepezil', 97: 'memantine', 102: 'citalopram', 191: 'risperidone'}"
      ]
     },
     "execution_count": 20,
     "metadata": {},
     "output_type": "execute_result"
    }
   ],
   "source": [
    "drugs"
   ]
  },
  {
   "cell_type": "markdown",
   "id": "robust-maria",
   "metadata": {},
   "source": [
    "## Now, we can investigate the drug IDs above against all drugs and all side effects"
   ]
  },
  {
   "cell_type": "code",
   "execution_count": 21,
   "id": "loaded-villa",
   "metadata": {},
   "outputs": [
    {
     "data": {
      "text/html": [
       "<div>\n",
       "<style scoped>\n",
       "    .dataframe tbody tr th:only-of-type {\n",
       "        vertical-align: middle;\n",
       "    }\n",
       "\n",
       "    .dataframe tbody tr th {\n",
       "        vertical-align: top;\n",
       "    }\n",
       "\n",
       "    .dataframe thead th {\n",
       "        text-align: right;\n",
       "    }\n",
       "</style>\n",
       "<table border=\"1\" class=\"dataframe\">\n",
       "  <thead>\n",
       "    <tr style=\"text-align: right;\">\n",
       "      <th></th>\n",
       "      <th>drugID</th>\n",
       "      <th>drug</th>\n",
       "      <th>n_PAEs_train</th>\n",
       "      <th>n_se_train</th>\n",
       "      <th>n_PAEs_exp</th>\n",
       "      <th>n_se_exp</th>\n",
       "      <th>pp_edge</th>\n",
       "      <th>pd_edgee</th>\n",
       "      <th>n_BP_GOs</th>\n",
       "    </tr>\n",
       "  </thead>\n",
       "  <tbody>\n",
       "    <tr>\n",
       "      <th>0</th>\n",
       "      <td>82</td>\n",
       "      <td>donepezil</td>\n",
       "      <td>8899</td>\n",
       "      <td>644</td>\n",
       "      <td>6381</td>\n",
       "      <td>612</td>\n",
       "      <td>992</td>\n",
       "      <td>413</td>\n",
       "      <td>366</td>\n",
       "    </tr>\n",
       "    <tr>\n",
       "      <th>1</th>\n",
       "      <td>97</td>\n",
       "      <td>memantine</td>\n",
       "      <td>4381</td>\n",
       "      <td>483</td>\n",
       "      <td>2172</td>\n",
       "      <td>404</td>\n",
       "      <td>1064</td>\n",
       "      <td>467</td>\n",
       "      <td>323</td>\n",
       "    </tr>\n",
       "    <tr>\n",
       "      <th>2</th>\n",
       "      <td>102</td>\n",
       "      <td>citalopram</td>\n",
       "      <td>28388</td>\n",
       "      <td>858</td>\n",
       "      <td>23425</td>\n",
       "      <td>858</td>\n",
       "      <td>813</td>\n",
       "      <td>341</td>\n",
       "      <td>246</td>\n",
       "    </tr>\n",
       "    <tr>\n",
       "      <th>3</th>\n",
       "      <td>191</td>\n",
       "      <td>risperidone</td>\n",
       "      <td>16737</td>\n",
       "      <td>779</td>\n",
       "      <td>11831</td>\n",
       "      <td>744</td>\n",
       "      <td>892</td>\n",
       "      <td>274</td>\n",
       "      <td>313</td>\n",
       "    </tr>\n",
       "  </tbody>\n",
       "</table>\n",
       "</div>"
      ],
      "text/plain": [
       "   drugID         drug  n_PAEs_train  n_se_train  n_PAEs_exp  n_se_exp  \\\n",
       "0      82    donepezil          8899         644        6381       612   \n",
       "1      97    memantine          4381         483        2172       404   \n",
       "2     102   citalopram         28388         858       23425       858   \n",
       "3     191  risperidone         16737         779       11831       744   \n",
       "\n",
       "   pp_edge  pd_edgee  n_BP_GOs  \n",
       "0      992       413       366  \n",
       "1     1064       467       323  \n",
       "2      813       341       246  \n",
       "3      892       274       313  "
      ]
     },
     "execution_count": 21,
     "metadata": {},
     "output_type": "execute_result"
    }
   ],
   "source": [
    "df_summ = pd.read_csv('exp_summary.csv', index_col=0)\n",
    "df_summ"
   ]
  },
  {
   "cell_type": "code",
   "execution_count": 22,
   "id": "f43e5dd4",
   "metadata": {},
   "outputs": [
    {
     "name": "stdout",
     "output_type": "stream",
     "text": [
      "go-basic.obo: fmt(1.2) rel(2021-10-26) 47,197 GO Terms\n",
      "  EXISTS: gene2go\n",
      "HMS:0:00:04.127798 331,423 annotations, 20,689 genes, 18,627 GOs, 1 taxids READ: gene2go \n",
      "\n",
      "Load BP Gene Ontology Analysis ...\n",
      "fisher module not installed.  Falling back on scipy.stats.fisher_exact\n",
      " 80% 16,811 of 20,913 population items found in association\n",
      "\n",
      "Load CC Gene Ontology Analysis ...\n",
      "fisher module not installed.  Falling back on scipy.stats.fisher_exact\n",
      " 86% 17,913 of 20,913 population items found in association\n",
      "\n",
      "Load MF Gene Ontology Analysis ...\n",
      "fisher module not installed.  Falling back on scipy.stats.fisher_exact\n",
      " 83% 17,432 of 20,913 population items found in association\n"
     ]
    }
   ],
   "source": [
    "# given a drug we interest\n",
    "# generate result\n",
    "\n",
    "drugid = 191\n",
    "aprile = Aprile(gdata, device='cpu')\n",
    "\n",
    "\n",
    "\n",
    "\n",
    "\n",
    "# query_191 = AprileQuery.load_from_pkl('drug-191.pkl')\n"
   ]
  },
  {
   "cell_type": "code",
   "execution_count": 24,
   "id": "141040f7",
   "metadata": {},
   "outputs": [
    {
     "ename": "AttributeError",
     "evalue": "No valid 'fill_value' provided",
     "output_type": "error",
     "traceback": [
      "\u001b[1;31m---------------------------------------------------------------------------\u001b[0m",
      "\u001b[1;31mAttributeError\u001b[0m                            Traceback (most recent call last)",
      "\u001b[1;32m<ipython-input-24-928115b4189c>\u001b[0m in \u001b[0;36m<module>\u001b[1;34m\u001b[0m\n\u001b[0;32m      1\u001b[0m \u001b[1;32mfrom\u001b[0m \u001b[0maprile\u001b[0m\u001b[1;33m.\u001b[0m\u001b[0mutils\u001b[0m \u001b[1;32mimport\u001b[0m \u001b[0msparse_id\u001b[0m\u001b[1;33m\u001b[0m\u001b[1;33m\u001b[0m\u001b[0m\n\u001b[0;32m      2\u001b[0m \u001b[0mgdata\u001b[0m\u001b[1;33m.\u001b[0m\u001b[0mp_feat\u001b[0m \u001b[1;33m=\u001b[0m \u001b[0msparse_id\u001b[0m\u001b[1;33m(\u001b[0m\u001b[0mgdata\u001b[0m\u001b[1;33m.\u001b[0m\u001b[0mn_prot\u001b[0m\u001b[1;33m)\u001b[0m\u001b[1;33m\u001b[0m\u001b[1;33m\u001b[0m\u001b[0m\n\u001b[1;32m----> 3\u001b[1;33m \u001b[0maprile\u001b[0m\u001b[1;33m.\u001b[0m\u001b[0mget_prediction_train\u001b[0m\u001b[1;33m(\u001b[0m\u001b[1;33m)\u001b[0m\u001b[1;33m\u001b[0m\u001b[1;33m\u001b[0m\u001b[0m\n\u001b[0m",
      "\u001b[1;32m~\\anaconda3\\lib\\site-packages\\aprile\\model.py\u001b[0m in \u001b[0;36mget_prediction_train\u001b[1;34m(self, threshold)\u001b[0m\n\u001b[0;32m    510\u001b[0m         \u001b[0mtrain_idx\u001b[0m\u001b[1;33m,\u001b[0m \u001b[0mtrain_et\u001b[0m \u001b[1;33m=\u001b[0m \u001b[0mremove_bidirection\u001b[0m\u001b[1;33m(\u001b[0m\u001b[0mself\u001b[0m\u001b[1;33m.\u001b[0m\u001b[0mgdata\u001b[0m\u001b[1;33m.\u001b[0m\u001b[0mtrain_idx\u001b[0m\u001b[1;33m,\u001b[0m \u001b[0mself\u001b[0m\u001b[1;33m.\u001b[0m\u001b[0mgdata\u001b[0m\u001b[1;33m.\u001b[0m\u001b[0mtrain_et\u001b[0m\u001b[1;33m)\u001b[0m\u001b[1;33m\u001b[0m\u001b[1;33m\u001b[0m\u001b[0m\n\u001b[0;32m    511\u001b[0m \u001b[1;33m\u001b[0m\u001b[0m\n\u001b[1;32m--> 512\u001b[1;33m         \u001b[1;32mreturn\u001b[0m \u001b[0mself\u001b[0m\u001b[1;33m.\u001b[0m\u001b[0mpredict\u001b[0m\u001b[1;33m(\u001b[0m\u001b[0mtrain_idx\u001b[0m\u001b[1;33m[\u001b[0m\u001b[1;36m0\u001b[0m\u001b[1;33m]\u001b[0m\u001b[1;33m.\u001b[0m\u001b[0mtolist\u001b[0m\u001b[1;33m(\u001b[0m\u001b[1;33m)\u001b[0m\u001b[1;33m,\u001b[0m \u001b[0mtrain_idx\u001b[0m\u001b[1;33m[\u001b[0m\u001b[1;36m1\u001b[0m\u001b[1;33m]\u001b[0m\u001b[1;33m.\u001b[0m\u001b[0mtolist\u001b[0m\u001b[1;33m(\u001b[0m\u001b[1;33m)\u001b[0m\u001b[1;33m,\u001b[0m \u001b[0mtrain_et\u001b[0m\u001b[1;33m.\u001b[0m\u001b[0mtolist\u001b[0m\u001b[1;33m(\u001b[0m\u001b[1;33m)\u001b[0m\u001b[1;33m,\u001b[0m \u001b[0mthreshold\u001b[0m\u001b[1;33m=\u001b[0m\u001b[0mthreshold\u001b[0m\u001b[1;33m)\u001b[0m\u001b[1;33m\u001b[0m\u001b[1;33m\u001b[0m\u001b[0m\n\u001b[0m\u001b[0;32m    513\u001b[0m \u001b[1;33m\u001b[0m\u001b[0m\n\u001b[0;32m    514\u001b[0m     \u001b[1;32mdef\u001b[0m \u001b[0mget_prediction_test\u001b[0m\u001b[1;33m(\u001b[0m\u001b[0mself\u001b[0m\u001b[1;33m,\u001b[0m \u001b[0mthreshold\u001b[0m\u001b[1;33m=\u001b[0m\u001b[1;36m0.5\u001b[0m\u001b[1;33m)\u001b[0m\u001b[1;33m:\u001b[0m\u001b[1;33m\u001b[0m\u001b[1;33m\u001b[0m\u001b[0m\n",
      "\u001b[1;32m~\\anaconda3\\lib\\site-packages\\aprile\\model.py\u001b[0m in \u001b[0;36mpredict\u001b[1;34m(self, drug1, drug2, side_effect, threshold)\u001b[0m\n\u001b[0;32m    547\u001b[0m         \u001b[0mpp_static_edge_weights\u001b[0m \u001b[1;33m=\u001b[0m \u001b[0mtorch\u001b[0m\u001b[1;33m.\u001b[0m\u001b[0mones\u001b[0m\u001b[1;33m(\u001b[0m\u001b[1;33m(\u001b[0m\u001b[0mdata\u001b[0m\u001b[1;33m.\u001b[0m\u001b[0mpp_index\u001b[0m\u001b[1;33m.\u001b[0m\u001b[0mshape\u001b[0m\u001b[1;33m[\u001b[0m\u001b[1;36m1\u001b[0m\u001b[1;33m]\u001b[0m\u001b[1;33m)\u001b[0m\u001b[1;33m)\u001b[0m\u001b[1;33m.\u001b[0m\u001b[0mto\u001b[0m\u001b[1;33m(\u001b[0m\u001b[0mdevice\u001b[0m\u001b[1;33m)\u001b[0m\u001b[1;33m\u001b[0m\u001b[1;33m\u001b[0m\u001b[0m\n\u001b[0;32m    548\u001b[0m         \u001b[0mpd_static_edge_weights\u001b[0m \u001b[1;33m=\u001b[0m \u001b[0mtorch\u001b[0m\u001b[1;33m.\u001b[0m\u001b[0mones\u001b[0m\u001b[1;33m(\u001b[0m\u001b[1;33m(\u001b[0m\u001b[0mdata\u001b[0m\u001b[1;33m.\u001b[0m\u001b[0mpd_index\u001b[0m\u001b[1;33m.\u001b[0m\u001b[0mshape\u001b[0m\u001b[1;33m[\u001b[0m\u001b[1;36m1\u001b[0m\u001b[1;33m]\u001b[0m\u001b[1;33m)\u001b[0m\u001b[1;33m)\u001b[0m\u001b[1;33m.\u001b[0m\u001b[0mto\u001b[0m\u001b[1;33m(\u001b[0m\u001b[0mdevice\u001b[0m\u001b[1;33m)\u001b[0m\u001b[1;33m\u001b[0m\u001b[1;33m\u001b[0m\u001b[0m\n\u001b[1;32m--> 549\u001b[1;33m         \u001b[0mz\u001b[0m \u001b[1;33m=\u001b[0m \u001b[0mmodel\u001b[0m\u001b[1;33m.\u001b[0m\u001b[0mpp\u001b[0m\u001b[1;33m(\u001b[0m\u001b[0mdata\u001b[0m\u001b[1;33m.\u001b[0m\u001b[0mp_feat\u001b[0m\u001b[1;33m,\u001b[0m \u001b[0mdata\u001b[0m\u001b[1;33m.\u001b[0m\u001b[0mpp_index\u001b[0m\u001b[1;33m,\u001b[0m \u001b[0mpp_static_edge_weights\u001b[0m\u001b[1;33m)\u001b[0m\u001b[1;33m\u001b[0m\u001b[1;33m\u001b[0m\u001b[0m\n\u001b[0m\u001b[0;32m    550\u001b[0m         \u001b[0mz0\u001b[0m \u001b[1;33m=\u001b[0m \u001b[0mz\u001b[0m\u001b[1;33m.\u001b[0m\u001b[0mclone\u001b[0m\u001b[1;33m(\u001b[0m\u001b[1;33m)\u001b[0m\u001b[1;33m\u001b[0m\u001b[1;33m\u001b[0m\u001b[0m\n\u001b[0;32m    551\u001b[0m         \u001b[0mz1\u001b[0m \u001b[1;33m=\u001b[0m \u001b[0mz\u001b[0m\u001b[1;33m.\u001b[0m\u001b[0mclone\u001b[0m\u001b[1;33m(\u001b[0m\u001b[1;33m)\u001b[0m\u001b[1;33m\u001b[0m\u001b[1;33m\u001b[0m\u001b[0m\n",
      "\u001b[1;32m~\\anaconda3\\lib\\site-packages\\torch\\nn\\modules\\module.py\u001b[0m in \u001b[0;36m_call_impl\u001b[1;34m(self, *input, **kwargs)\u001b[0m\n\u001b[0;32m   1100\u001b[0m         if not (self._backward_hooks or self._forward_hooks or self._forward_pre_hooks or _global_backward_hooks\n\u001b[0;32m   1101\u001b[0m                 or _global_forward_hooks or _global_forward_pre_hooks):\n\u001b[1;32m-> 1102\u001b[1;33m             \u001b[1;32mreturn\u001b[0m \u001b[0mforward_call\u001b[0m\u001b[1;33m(\u001b[0m\u001b[1;33m*\u001b[0m\u001b[0minput\u001b[0m\u001b[1;33m,\u001b[0m \u001b[1;33m**\u001b[0m\u001b[0mkwargs\u001b[0m\u001b[1;33m)\u001b[0m\u001b[1;33m\u001b[0m\u001b[1;33m\u001b[0m\u001b[0m\n\u001b[0m\u001b[0;32m   1103\u001b[0m         \u001b[1;31m# Do not call functions when jit is used\u001b[0m\u001b[1;33m\u001b[0m\u001b[1;33m\u001b[0m\u001b[1;33m\u001b[0m\u001b[0m\n\u001b[0;32m   1104\u001b[0m         \u001b[0mfull_backward_hooks\u001b[0m\u001b[1;33m,\u001b[0m \u001b[0mnon_full_backward_hooks\u001b[0m \u001b[1;33m=\u001b[0m \u001b[1;33m[\u001b[0m\u001b[1;33m]\u001b[0m\u001b[1;33m,\u001b[0m \u001b[1;33m[\u001b[0m\u001b[1;33m]\u001b[0m\u001b[1;33m\u001b[0m\u001b[1;33m\u001b[0m\u001b[0m\n",
      "\u001b[1;32m~\\anaconda3\\lib\\site-packages\\aprile\\model.py\u001b[0m in \u001b[0;36mforward\u001b[1;34m(self, x, pp_edge_index, edge_weight)\u001b[0m\n\u001b[0;32m    190\u001b[0m         \u001b[0mtmp\u001b[0m\u001b[1;33m.\u001b[0m\u001b[0mappend\u001b[0m\u001b[1;33m(\u001b[0m\u001b[0mx\u001b[0m\u001b[1;33m)\u001b[0m\u001b[1;33m\u001b[0m\u001b[1;33m\u001b[0m\u001b[0m\n\u001b[0;32m    191\u001b[0m         \u001b[1;32mfor\u001b[0m \u001b[0mnet\u001b[0m \u001b[1;32min\u001b[0m \u001b[0mself\u001b[0m\u001b[1;33m.\u001b[0m\u001b[0mconv_list\u001b[0m\u001b[1;33m[\u001b[0m\u001b[1;33m:\u001b[0m\u001b[1;33m-\u001b[0m\u001b[1;36m1\u001b[0m\u001b[1;33m]\u001b[0m\u001b[1;33m:\u001b[0m\u001b[1;33m\u001b[0m\u001b[1;33m\u001b[0m\u001b[0m\n\u001b[1;32m--> 192\u001b[1;33m             \u001b[0mx\u001b[0m \u001b[1;33m=\u001b[0m \u001b[0mnet\u001b[0m\u001b[1;33m(\u001b[0m\u001b[0mx\u001b[0m\u001b[1;33m,\u001b[0m \u001b[0mpp_edge_index\u001b[0m\u001b[1;33m,\u001b[0m \u001b[0medge_weight\u001b[0m\u001b[1;33m)\u001b[0m\u001b[1;33m\u001b[0m\u001b[1;33m\u001b[0m\u001b[0m\n\u001b[0m\u001b[0;32m    193\u001b[0m             \u001b[0mx\u001b[0m \u001b[1;33m=\u001b[0m \u001b[0mF\u001b[0m\u001b[1;33m.\u001b[0m\u001b[0mrelu\u001b[0m\u001b[1;33m(\u001b[0m\u001b[0mx\u001b[0m\u001b[1;33m,\u001b[0m \u001b[0minplace\u001b[0m\u001b[1;33m=\u001b[0m\u001b[1;32mTrue\u001b[0m\u001b[1;33m)\u001b[0m\u001b[1;33m\u001b[0m\u001b[1;33m\u001b[0m\u001b[0m\n\u001b[0;32m    194\u001b[0m             \u001b[0mtmp\u001b[0m\u001b[1;33m.\u001b[0m\u001b[0mappend\u001b[0m\u001b[1;33m(\u001b[0m\u001b[0mx\u001b[0m\u001b[1;33m)\u001b[0m\u001b[1;33m\u001b[0m\u001b[1;33m\u001b[0m\u001b[0m\n",
      "\u001b[1;32m~\\anaconda3\\lib\\site-packages\\torch\\nn\\modules\\module.py\u001b[0m in \u001b[0;36m_call_impl\u001b[1;34m(self, *input, **kwargs)\u001b[0m\n\u001b[0;32m   1100\u001b[0m         if not (self._backward_hooks or self._forward_hooks or self._forward_pre_hooks or _global_backward_hooks\n\u001b[0;32m   1101\u001b[0m                 or _global_forward_hooks or _global_forward_pre_hooks):\n\u001b[1;32m-> 1102\u001b[1;33m             \u001b[1;32mreturn\u001b[0m \u001b[0mforward_call\u001b[0m\u001b[1;33m(\u001b[0m\u001b[1;33m*\u001b[0m\u001b[0minput\u001b[0m\u001b[1;33m,\u001b[0m \u001b[1;33m**\u001b[0m\u001b[0mkwargs\u001b[0m\u001b[1;33m)\u001b[0m\u001b[1;33m\u001b[0m\u001b[1;33m\u001b[0m\u001b[0m\n\u001b[0m\u001b[0;32m   1103\u001b[0m         \u001b[1;31m# Do not call functions when jit is used\u001b[0m\u001b[1;33m\u001b[0m\u001b[1;33m\u001b[0m\u001b[1;33m\u001b[0m\u001b[0m\n\u001b[0;32m   1104\u001b[0m         \u001b[0mfull_backward_hooks\u001b[0m\u001b[1;33m,\u001b[0m \u001b[0mnon_full_backward_hooks\u001b[0m \u001b[1;33m=\u001b[0m \u001b[1;33m[\u001b[0m\u001b[1;33m]\u001b[0m\u001b[1;33m,\u001b[0m \u001b[1;33m[\u001b[0m\u001b[1;33m]\u001b[0m\u001b[1;33m\u001b[0m\u001b[1;33m\u001b[0m\u001b[0m\n",
      "\u001b[1;32m~\\anaconda3\\lib\\site-packages\\aprile\\model.py\u001b[0m in \u001b[0;36mforward\u001b[1;34m(self, x, edge_index, edge_weight)\u001b[0m\n\u001b[0;32m    139\u001b[0m         \u001b[1;32mif\u001b[0m \u001b[1;32mnot\u001b[0m \u001b[0mself\u001b[0m\u001b[1;33m.\u001b[0m\u001b[0mcached\u001b[0m \u001b[1;32mor\u001b[0m \u001b[0mself\u001b[0m\u001b[1;33m.\u001b[0m\u001b[0mcached_result\u001b[0m \u001b[1;32mis\u001b[0m \u001b[1;32mNone\u001b[0m\u001b[1;33m:\u001b[0m\u001b[1;33m\u001b[0m\u001b[1;33m\u001b[0m\u001b[0m\n\u001b[0;32m    140\u001b[0m             \u001b[0mself\u001b[0m\u001b[1;33m.\u001b[0m\u001b[0mcached_num_edges\u001b[0m \u001b[1;33m=\u001b[0m \u001b[0medge_index\u001b[0m\u001b[1;33m.\u001b[0m\u001b[0msize\u001b[0m\u001b[1;33m(\u001b[0m\u001b[1;36m1\u001b[0m\u001b[1;33m)\u001b[0m\u001b[1;33m\u001b[0m\u001b[1;33m\u001b[0m\u001b[0m\n\u001b[1;32m--> 141\u001b[1;33m             edge_index, norm = self.norm(edge_index, x.size(0), edge_weight,\n\u001b[0m\u001b[0;32m    142\u001b[0m                                          self.improved, x.dtype)\n\u001b[0;32m    143\u001b[0m             \u001b[0mself\u001b[0m\u001b[1;33m.\u001b[0m\u001b[0mcached_result\u001b[0m \u001b[1;33m=\u001b[0m \u001b[0medge_index\u001b[0m\u001b[1;33m,\u001b[0m \u001b[0mnorm\u001b[0m\u001b[1;33m\u001b[0m\u001b[1;33m\u001b[0m\u001b[0m\n",
      "\u001b[1;32m~\\anaconda3\\lib\\site-packages\\aprile\\model.py\u001b[0m in \u001b[0;36mnorm\u001b[1;34m(edge_index, num_nodes, edge_weight, improved, dtype)\u001b[0m\n\u001b[0;32m    118\u001b[0m \u001b[1;33m\u001b[0m\u001b[0m\n\u001b[0;32m    119\u001b[0m         \u001b[0mfill_value\u001b[0m \u001b[1;33m=\u001b[0m \u001b[1;36m1\u001b[0m \u001b[1;32mif\u001b[0m \u001b[1;32mnot\u001b[0m \u001b[0mimproved\u001b[0m \u001b[1;32melse\u001b[0m \u001b[1;36m2\u001b[0m\u001b[1;33m\u001b[0m\u001b[1;33m\u001b[0m\u001b[0m\n\u001b[1;32m--> 120\u001b[1;33m         edge_index, edge_weight = add_remaining_self_loops(\n\u001b[0m\u001b[0;32m    121\u001b[0m             edge_index, edge_weight, fill_value, num_nodes)\n\u001b[0;32m    122\u001b[0m \u001b[1;33m\u001b[0m\u001b[0m\n",
      "\u001b[1;32m~\\anaconda3\\lib\\site-packages\\torch_geometric\\utils\\loop.py\u001b[0m in \u001b[0;36madd_remaining_self_loops\u001b[1;34m(edge_index, edge_attr, fill_value, num_nodes)\u001b[0m\n\u001b[0;32m    218\u001b[0m                                 reduce=fill_value)\n\u001b[0;32m    219\u001b[0m         \u001b[1;32melse\u001b[0m\u001b[1;33m:\u001b[0m\u001b[1;33m\u001b[0m\u001b[1;33m\u001b[0m\u001b[0m\n\u001b[1;32m--> 220\u001b[1;33m             \u001b[1;32mraise\u001b[0m \u001b[0mAttributeError\u001b[0m\u001b[1;33m(\u001b[0m\u001b[1;34m\"No valid 'fill_value' provided\"\u001b[0m\u001b[1;33m)\u001b[0m\u001b[1;33m\u001b[0m\u001b[1;33m\u001b[0m\u001b[0m\n\u001b[0m\u001b[0;32m    221\u001b[0m \u001b[1;33m\u001b[0m\u001b[0m\n\u001b[0;32m    222\u001b[0m         \u001b[0minv_mask\u001b[0m \u001b[1;33m=\u001b[0m \u001b[1;33m~\u001b[0m\u001b[0mmask\u001b[0m\u001b[1;33m\u001b[0m\u001b[1;33m\u001b[0m\u001b[0m\n",
      "\u001b[1;31mAttributeError\u001b[0m: No valid 'fill_value' provided"
     ]
    }
   ],
   "source": [
    "from aprile.utils import sparse_id\n",
    "gdata.p_feat = sparse_id(gdata.n_prot)\n",
    "aprile.get_prediction_train()"
   ]
  },
  {
   "cell_type": "code",
   "execution_count": null,
   "id": "c80515eb",
   "metadata": {},
   "outputs": [],
   "source": []
  },
  {
   "cell_type": "code",
   "execution_count": null,
   "id": "c3e89bb0",
   "metadata": {},
   "outputs": [],
   "source": []
  },
  {
   "cell_type": "code",
   "execution_count": null,
   "id": "f4438c77",
   "metadata": {},
   "outputs": [],
   "source": []
  },
  {
   "cell_type": "code",
   "execution_count": null,
   "id": "17ddf2d0",
   "metadata": {},
   "outputs": [],
   "source": []
  },
  {
   "cell_type": "code",
   "execution_count": null,
   "id": "6b736669",
   "metadata": {},
   "outputs": [],
   "source": []
  },
  {
   "cell_type": "code",
   "execution_count": null,
   "id": "2ec46327",
   "metadata": {},
   "outputs": [],
   "source": []
  },
  {
   "cell_type": "code",
   "execution_count": null,
   "id": "1c1ba1a0",
   "metadata": {},
   "outputs": [],
   "source": []
  },
  {
   "cell_type": "code",
   "execution_count": null,
   "id": "a1cb35bf",
   "metadata": {},
   "outputs": [],
   "source": []
  },
  {
   "cell_type": "code",
   "execution_count": 26,
   "id": "scientific-click",
   "metadata": {},
   "outputs": [
    {
     "ename": "ModuleNotFoundError",
     "evalue": "No module named 'src_query'",
     "output_type": "error",
     "traceback": [
      "\u001b[1;31m---------------------------------------------------------------------------\u001b[0m",
      "\u001b[1;31mModuleNotFoundError\u001b[0m                       Traceback (most recent call last)",
      "\u001b[1;32m<ipython-input-26-96c02c4dba00>\u001b[0m in \u001b[0;36m<module>\u001b[1;34m\u001b[0m\n\u001b[0;32m      3\u001b[0m \u001b[1;32mfor\u001b[0m \u001b[0mdrug_idx\u001b[0m \u001b[1;32min\u001b[0m \u001b[0mdrugs\u001b[0m\u001b[1;33m.\u001b[0m\u001b[0mkeys\u001b[0m\u001b[1;33m(\u001b[0m\u001b[1;33m)\u001b[0m\u001b[1;33m:\u001b[0m\u001b[1;33m\u001b[0m\u001b[1;33m\u001b[0m\u001b[0m\n\u001b[0;32m      4\u001b[0m     \u001b[1;31m# se_idx = gdata.side_effect_name_to_idx[se_name]\u001b[0m\u001b[1;33m\u001b[0m\u001b[1;33m\u001b[0m\u001b[1;33m\u001b[0m\u001b[0m\n\u001b[1;32m----> 5\u001b[1;33m     \u001b[0mquery\u001b[0m \u001b[1;33m=\u001b[0m \u001b[0mAprileQuery\u001b[0m\u001b[1;33m.\u001b[0m\u001b[0mload_from_pkl\u001b[0m\u001b[1;33m(\u001b[0m\u001b[1;34m'drug-%s.pkl'\u001b[0m\u001b[1;33m%\u001b[0m\u001b[0mdrug_idx\u001b[0m\u001b[1;33m)\u001b[0m\u001b[1;33m\u001b[0m\u001b[1;33m\u001b[0m\u001b[0m\n\u001b[0m\u001b[0;32m      6\u001b[0m     \u001b[1;31m# df_ctdi = df_ctd[df_ctd.DiseaseName.str.lower()==se_name.lower()]\u001b[0m\u001b[1;33m\u001b[0m\u001b[1;33m\u001b[0m\u001b[1;33m\u001b[0m\u001b[0m\n\u001b[0;32m      7\u001b[0m     \u001b[1;31m# ctd_genes = df_ctdi.GeneID.unique()\u001b[0m\u001b[1;33m\u001b[0m\u001b[1;33m\u001b[0m\u001b[1;33m\u001b[0m\u001b[0m\n",
      "\u001b[1;32m~\\anaconda3\\lib\\site-packages\\aprile\\model.py\u001b[0m in \u001b[0;36mload_from_pkl\u001b[1;34m(file)\u001b[0m\n\u001b[0;32m    829\u001b[0m         \"\"\"\n\u001b[0;32m    830\u001b[0m         \u001b[1;32mwith\u001b[0m \u001b[0mopen\u001b[0m\u001b[1;33m(\u001b[0m\u001b[0mfile\u001b[0m\u001b[1;33m,\u001b[0m \u001b[1;34m'rb'\u001b[0m\u001b[1;33m)\u001b[0m \u001b[1;32mas\u001b[0m \u001b[0mf\u001b[0m\u001b[1;33m:\u001b[0m\u001b[1;33m\u001b[0m\u001b[1;33m\u001b[0m\u001b[0m\n\u001b[1;32m--> 831\u001b[1;33m             \u001b[1;32mreturn\u001b[0m \u001b[0mpickle\u001b[0m\u001b[1;33m.\u001b[0m\u001b[0mload\u001b[0m\u001b[1;33m(\u001b[0m\u001b[0mf\u001b[0m\u001b[1;33m)\u001b[0m\u001b[1;33m\u001b[0m\u001b[1;33m\u001b[0m\u001b[0m\n\u001b[0m\u001b[0;32m    832\u001b[0m \u001b[1;33m\u001b[0m\u001b[0m\n\u001b[0;32m    833\u001b[0m     \u001b[1;32mdef\u001b[0m \u001b[0mto_pickle\u001b[0m\u001b[1;33m(\u001b[0m\u001b[0mself\u001b[0m\u001b[1;33m,\u001b[0m \u001b[0mfile\u001b[0m\u001b[1;33m)\u001b[0m\u001b[1;33m:\u001b[0m\u001b[1;33m\u001b[0m\u001b[1;33m\u001b[0m\u001b[0m\n",
      "\u001b[1;31mModuleNotFoundError\u001b[0m: No module named 'src_query'"
     ]
    }
   ],
   "source": [
    "SE_Results = []\n",
    "\n",
    "for drug_idx in drugs.keys():\n",
    "    # se_idx = gdata.side_effect_name_to_idx[se_name]    \n",
    "    query = AprileQuery.load_from_pkl('drug-%s.pkl'%drug_idx)\n",
    "    # df_ctdi = df_ctd[df_ctd.DiseaseName.str.lower()==se_name.lower()]\n",
    "    # ctd_genes = df_ctdi.GeneID.unique()\n",
    "    # run_permut_query(se_idx, query, gdata, ctd_genes, N_RAND=10000)"
   ]
  },
  {
   "cell_type": "markdown",
   "id": "blocked-persian",
   "metadata": {},
   "source": [
    "- reporting system of side effects\n",
    "    - Pose can help design this so it is easier for patients with dementia"
   ]
  },
  {
   "cell_type": "code",
   "execution_count": null,
   "id": "1cab8021",
   "metadata": {},
   "outputs": [],
   "source": []
  },
  {
   "cell_type": "code",
   "execution_count": 112,
   "id": "express-bearing",
   "metadata": {},
   "outputs": [
    {
     "data": {
      "text/plain": [
       "(array([1293., 1419., 1497., 1478., 1497., 1453., 1343., 1062.,  635.,\n",
       "         154.]),\n",
       " array([0.50001192, 0.54746676, 0.5949216 , 0.64237644, 0.68983128,\n",
       "        0.73728612, 0.78474096, 0.8321958 , 0.87965064, 0.92710548,\n",
       "        0.97456032]),\n",
       " <BarContainer object of 10 artists>)"
      ]
     },
     "execution_count": 112,
     "metadata": {},
     "output_type": "execute_result"
    },
    {
     "data": {
      "image/png": "[encoded data removed]",
      "text/plain": [
       "<Figure size 432x288 with 1 Axes>"
      ]
     },
     "metadata": {
      "needs_background": "light"
     },
     "output_type": "display_data"
    }
   ],
   "source": [
    "plt.hist(query.probability)"
   ]
  },
  {
   "cell_type": "code",
   "execution_count": 120,
   "id": "hollywood-gardening",
   "metadata": {},
   "outputs": [
    {
     "data": {
      "text/plain": [
       "0.6961670517921448"
      ]
     },
     "execution_count": 120,
     "metadata": {},
     "output_type": "execute_result"
    }
   ],
   "source": [
    "import numpy as np\n",
    "np.median(query.probability)"
   ]
  },
  {
   "cell_type": "code",
   "execution_count": 123,
   "id": "fixed-syndrome",
   "metadata": {},
   "outputs": [
    {
     "data": {
      "text/plain": [
       "462"
      ]
     },
     "execution_count": 123,
     "metadata": {},
     "output_type": "execute_result"
    }
   ],
   "source": [
    "(np.array(query.probability)>0.9).sum()"
   ]
  },
  {
   "cell_type": "code",
   "execution_count": 113,
   "id": "cosmetic-investigator",
   "metadata": {},
   "outputs": [
    {
     "data": {
      "text/plain": [
       "(array([  12.,  419., 2710., 2223., 1738., 1634., 1415., 1007.,  503.,\n",
       "         170.]),\n",
       " array([-0.17358913, -0.05804732,  0.05749449,  0.17303629,  0.2885781 ,\n",
       "         0.4041199 ,  0.51966171,  0.63520351,  0.75074532,  0.86628712,\n",
       "         0.98182893]),\n",
       " <BarContainer object of 10 artists>)"
      ]
     },
     "execution_count": 113,
     "metadata": {},
     "output_type": "execute_result"
    },
    {
     "data": {
      "image/png": "[encoded data removed]",
      "text/plain": [
       "<Figure size 432x288 with 1 Axes>"
      ]
     },
     "metadata": {
      "needs_background": "light"
     },
     "output_type": "display_data"
    }
   ],
   "source": [
    "plt.hist(query.ppiu_score)"
   ]
  }
 ],
 "metadata": {
  "kernelspec": {
   "display_name": "Python 3",
   "language": "python",
   "name": "python3"
  },
  "language_info": {
   "codemirror_mode": {
    "name": "ipython",
    "version": 3
   },
   "file_extension": ".py",
   "mimetype": "text/x-python",
   "name": "python",
   "nbconvert_exporter": "python",
   "pygments_lexer": "ipython3",
   "version": "3.8.8"
  }
 },
 "nbformat": 4,
 "nbformat_minor": 5
}
